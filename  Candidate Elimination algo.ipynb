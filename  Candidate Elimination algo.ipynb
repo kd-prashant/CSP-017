{
 "cells": [
  {
   "cell_type": "code",
   "execution_count": 3,
   "id": "40f8f1ca-8337-4a48-a9b2-646cfa1192ac",
   "metadata": {},
   "outputs": [
    {
     "name": "stdout",
     "output_type": "stream",
     "text": [
      "S_final: ['?', '?', '?', '?']\n",
      "G_final: []\n"
     ]
    }
   ],
   "source": [
    "import pandas as pd\n",
    "\n",
    "# Load the dataset\n",
    "data = pd.read_csv('soil_measures.csv')\n",
    "\n",
    "# Target crop for binary classification (positive examples)\n",
    "target_crop = 'maize'\n",
    "\n",
    "# Initialize G and S\n",
    "attributes = ['N', 'P', 'K', 'ph']\n",
    "S = ['0'] * len(attributes)\n",
    "G = [['?'] * len(attributes)]\n",
    "\n",
    "def is_more_general(h1, h2):\n",
    "    more_general_parts = []\n",
    "    for x, y in zip(h1, h2):\n",
    "        mg = x == '?' or (x == y)\n",
    "        more_general_parts.append(mg)\n",
    "    return all(more_general_parts)\n",
    "\n",
    "def is_consistent(hypothesis, sample):\n",
    "    for i in range(len(attributes)):\n",
    "        if hypothesis[i] != '?' and hypothesis[i] != sample[i]:\n",
    "            return False\n",
    "    return True\n",
    "\n",
    "# Candidate Elimination algorithm\n",
    "for i, row in data.iterrows():\n",
    "    example = [row['N'], row['P'], row['K'], row['ph']]\n",
    "    \n",
    "    if row['crop'] == target_crop:  # Positive example\n",
    "        G = [g for g in G if is_consistent(g, example)]\n",
    "        \n",
    "        for j in range(len(S)):\n",
    "            if S[j] == '0':\n",
    "                S[j] = example[j]\n",
    "            elif S[j] != example[j]:\n",
    "                S[j] = '?'\n",
    "    \n",
    "    else:  # Negative example\n",
    "        new_G = []\n",
    "        for g in G:\n",
    "            if not is_consistent(g, example):\n",
    "                new_G.append(g)\n",
    "        G = new_G\n",
    "\n",
    "print(\"S_final:\", S)\n",
    "print(\"G_final:\", G)\n"
   ]
  },
  {
   "cell_type": "code",
   "execution_count": null,
   "id": "da4303c1-aa56-43c7-aded-e75b7d848f23",
   "metadata": {},
   "outputs": [],
   "source": []
  }
 ],
 "metadata": {
  "kernelspec": {
   "display_name": "Python 3 (ipykernel)",
   "language": "python",
   "name": "python3"
  },
  "language_info": {
   "codemirror_mode": {
    "name": "ipython",
    "version": 3
   },
   "file_extension": ".py",
   "mimetype": "text/x-python",
   "name": "python",
   "nbconvert_exporter": "python",
   "pygments_lexer": "ipython3",
   "version": "3.12.4"
  }
 },
 "nbformat": 4,
 "nbformat_minor": 5
}
