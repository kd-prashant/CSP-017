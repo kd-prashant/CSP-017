{
 "cells": [
  {
   "cell_type": "code",
   "execution_count": 1,
   "id": "40f8f1ca-8337-4a48-a9b2-646cfa1192ac",
   "metadata": {},
   "outputs": [
    {
     "name": "stdout",
     "output_type": "stream",
     "text": [
      "S_final: ['?', '?', '?', '?']\n",
      "G_final: []\n"
     ]
    }
   ],
   "source": [
    "import pandas as pd\n",
    "import numpy as np\n",
    "\n",
    "df = pd.read_csv('binary_soil_measures.csv')\n",
    "X = df[['N', 'P', 'K', 'ph']].values\n",
    "y = df['crop_binary'].values\n",
    "\n",
    "def consistent(hypothesis, x):\n",
    "    for i in range(len(hypothesis)):\n",
    "        if hypothesis[i] != '?' and hypothesis[i] != x[i]:\n",
    "            return False\n",
    "    return True\n",
    "    \n",
    "def candidate_elimination(X, y):\n",
    "    S = ['0'] * len(X[0])\n",
    "    G = [['?'] * len(X[0])]\n",
    "\n",
    "    for i in range(len(X)):\n",
    "        if y[i] == 1:\n",
    "            for j in range(len(S)):\n",
    "                if S[j] == '0':\n",
    "                    S[j] = X[i][j]\n",
    "                elif S[j] != X[i][j]:\n",
    "                    S[j] = '?'\n",
    "            G = [g for g in G if consistent(g, X[i])]\n",
    "\n",
    "        elif y[i] == 0:\n",
    "            G_new = []\n",
    "            for g in G:\n",
    "                if consistent(g, X[i]):\n",
    "                    for j in range(len(g)):\n",
    "                        if g[j] == '?':\n",
    "                            for val in np.unique(X[:, j]):\n",
    "                                if val != X[i][j]:\n",
    "                                    g_copy = g.copy()\n",
    "                                    g_copy[j] = val\n",
    "                                    G_new.append(g_copy)\n",
    "                        elif g[j] != X[i][j]:\n",
    "                            G_new.append(g)\n",
    "            G = G_new\n",
    "    return S, G\n",
    "\n",
    "S_final, G_final = candidate_elimination(X, y)\n",
    "\n",
    "print(f\"S_final: {S_final}\")\n",
    "print(f\"G_final: {G_final}\")\n"
   ]
  },
  {
   "cell_type": "code",
   "execution_count": null,
   "id": "da4303c1-aa56-43c7-aded-e75b7d848f23",
   "metadata": {},
   "outputs": [],
   "source": []
  }
 ],
 "metadata": {
  "kernelspec": {
   "display_name": "Python 3 (ipykernel)",
   "language": "python",
   "name": "python3"
  },
  "language_info": {
   "codemirror_mode": {
    "name": "ipython",
    "version": 3
   },
   "file_extension": ".py",
   "mimetype": "text/x-python",
   "name": "python",
   "nbconvert_exporter": "python",
   "pygments_lexer": "ipython3",
   "version": "3.12.4"
  }
 },
 "nbformat": 4,
 "nbformat_minor": 5
}
