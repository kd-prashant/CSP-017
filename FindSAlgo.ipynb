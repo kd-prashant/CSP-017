{
 "cells": [
  {
   "cell_type": "code",
   "execution_count": 5,
   "id": "ad791673-c865-4d10-99b2-a1dc4b56cc49",
   "metadata": {},
   "outputs": [
    {
     "name": "stdout",
     "output_type": "stream",
     "text": [
      "Most specific hypothesis: ['?', '?', '?', '?']\n"
     ]
    }
   ],
   "source": [
    "import pandas as pd\n",
    "\n",
    "df = pd.read_csv('binary_soil_measures.csv')\n",
    "\n",
    "attributes = df[['N', 'P', 'K', 'ph']].values\n",
    "target = df['crop_binary'].values\n",
    "\n",
    "def find_s_algorithm(attributes, target):\n",
    "    hypothesis = ['0'] * len(attributes[0])\n",
    "    \n",
    "    for i, instance in enumerate(attributes):\n",
    "        if target[i] == 1:\n",
    "            for j in range(len(hypothesis)):\n",
    "                if hypothesis[j] == '0':\n",
    "                    hypothesis[j] = instance[j]\n",
    "                elif hypothesis[j] != instance[j]:\n",
    "                    hypothesis[j] = '?'   \n",
    "    return hypothesis\n",
    "\n",
    "most_specific_hypothesis = find_s_algorithm(attributes, target)\n",
    "\n",
    "print(\"Most specific hypothesis:\", most_specific_hypothesis)\n",
    "\n"
   ]
  },
  {
   "cell_type": "code",
   "execution_count": null,
   "id": "aeaa7d93-400c-47cb-b734-6f55d9de22cc",
   "metadata": {},
   "outputs": [],
   "source": []
  },
  {
   "cell_type": "code",
   "execution_count": null,
   "id": "7a7c8346-8c66-411e-9779-20a9f504e226",
   "metadata": {},
   "outputs": [],
   "source": []
  }
 ],
 "metadata": {
  "kernelspec": {
   "display_name": "Python 3 (ipykernel)",
   "language": "python",
   "name": "python3"
  },
  "language_info": {
   "codemirror_mode": {
    "name": "ipython",
    "version": 3
   },
   "file_extension": ".py",
   "mimetype": "text/x-python",
   "name": "python",
   "nbconvert_exporter": "python",
   "pygments_lexer": "ipython3",
   "version": "3.12.4"
  }
 },
 "nbformat": 4,
 "nbformat_minor": 5
}
