{
 "cells": [
  {
   "cell_type": "code",
   "execution_count": 1,
   "id": "0ca73ee6-8fe8-4046-ae49-f3a7c9c9afbb",
   "metadata": {},
   "outputs": [
    {
     "name": "stdout",
     "output_type": "stream",
     "text": [
      "EM Clustering Silhouette Score: 0.5058854001336507\n",
      "k-Means Clustering Silhouette Score: 0.5088048414297954\n",
      "k-Means provides better clustering quality.\n"
     ]
    }
   ],
   "source": [
    "from sklearn.mixture import GaussianMixture\n",
    "from sklearn.cluster import KMeans\n",
    "from sklearn.metrics import silhouette_score\n",
    "import pandas as pd\n",
    "\n",
    "df = pd.read_csv('binary_soil_measures.csv')\n",
    "X = df[['N', 'P', 'K', 'ph']].values\n",
    "\n",
    "em_model = GaussianMixture(n_components=3, random_state=42)\n",
    "em_labels = em_model.fit_predict(X)\n",
    "em_score = silhouette_score(X, em_labels)\n",
    "print(f\"EM Clustering Silhouette Score: {em_score}\")\n",
    "\n",
    "kmeans_model = KMeans(n_clusters=3, random_state=42)\n",
    "kmeans_labels = kmeans_model.fit_predict(X)\n",
    "kmeans_score = silhouette_score(X, kmeans_labels)\n",
    "print(f\"k-Means Clustering Silhouette Score: {kmeans_score}\")\n",
    "\n",
    "if em_score > kmeans_score:\n",
    "    print(\"EM provides better clustering quality.\")\n",
    "else:\n",
    "    print(\"k-Means provides better clustering quality.\")\n"
   ]
  },
  {
   "cell_type": "code",
   "execution_count": null,
   "id": "38831f82-6df6-4cf0-961b-922424304288",
   "metadata": {},
   "outputs": [],
   "source": []
  }
 ],
 "metadata": {
  "kernelspec": {
   "display_name": "Python 3 (ipykernel)",
   "language": "python",
   "name": "python3"
  },
  "language_info": {
   "codemirror_mode": {
    "name": "ipython",
    "version": 3
   },
   "file_extension": ".py",
   "mimetype": "text/x-python",
   "name": "python",
   "nbconvert_exporter": "python",
   "pygments_lexer": "ipython3",
   "version": "3.12.4"
  }
 },
 "nbformat": 4,
 "nbformat_minor": 5
}
