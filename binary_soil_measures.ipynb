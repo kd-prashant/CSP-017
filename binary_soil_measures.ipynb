{
 "cells": [
  {
   "cell_type": "code",
   "execution_count": 2,
   "id": "f40c092c-f1be-4d38-8873-f7a9c4177a08",
   "metadata": {},
   "outputs": [
    {
     "name": "stdout",
     "output_type": "stream",
     "text": [
      "    N   P   K  ph  crop  crop_binary\n",
      "0  90  42  43   7  rice            1\n",
      "1  85  58  41   7  rice            1\n",
      "2  60  55  44   8  rice            1\n",
      "3  74  35  40   7  rice            1\n",
      "4  78  42  42   8  rice            1\n"
     ]
    }
   ],
   "source": [
    "import pandas as pd\n",
    "\n",
    "df = pd.read_csv('soil_measures.csv')\n",
    "\n",
    "positive_class = 'rice'\n",
    "\n",
    "df['crop_binary'] = df['crop'].apply(lambda x: 1 if x == positive_class else 0)\n",
    "\n",
    "df.to_csv('binary_soil_measures.csv', index=False)\n",
    "\n",
    "print(df.head())\n"
   ]
  },
  {
   "cell_type": "code",
   "execution_count": null,
   "id": "1f5262cc-c04e-42df-8889-a92520dae364",
   "metadata": {},
   "outputs": [],
   "source": []
  }
 ],
 "metadata": {
  "kernelspec": {
   "display_name": "Python 3 (ipykernel)",
   "language": "python",
   "name": "python3"
  },
  "language_info": {
   "codemirror_mode": {
    "name": "ipython",
    "version": 3
   },
   "file_extension": ".py",
   "mimetype": "text/x-python",
   "name": "python",
   "nbconvert_exporter": "python",
   "pygments_lexer": "ipython3",
   "version": "3.12.4"
  }
 },
 "nbformat": 4,
 "nbformat_minor": 5
}
