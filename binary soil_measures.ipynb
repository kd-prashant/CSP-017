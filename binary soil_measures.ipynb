import pandas as pd

df = pd.read_csv('soil_measures.csv')

positive_class = 'rice'

df['crop_binary'] = df['crop'].apply(lambda x: 1 if x == positive_class else 0)

df.to_csv('binary_soil_measures.csv', index=False)

print(df.head())
